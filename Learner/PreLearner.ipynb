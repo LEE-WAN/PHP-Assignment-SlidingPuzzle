{
  "nbformat": 4,
  "nbformat_minor": 0,
  "metadata": {
    "colab": {
      "name": "PreLearner",
      "provenance": [],
      "collapsed_sections": []
    },
    "kernelspec": {
      "name": "python3",
      "display_name": "Python 3"
    },
    "accelerator": "GPU"
  },
  "cells": [
    {
      "cell_type": "code",
      "metadata": {
        "id": "6TlN3a_XgWYN",
        "colab_type": "code",
        "colab": {}
      },
      "source": [
        "from __future__ import absolute_import, division, print_function, unicode_literals\n",
        "\n",
        "# Install TensorFlow\n",
        "try:\n",
        "  # %tensorflow_version only exists in Colab.\n",
        "  %tensorflow_version 2.x\n",
        "except Exception:\n",
        "  pass\n",
        "\n",
        "import tensorflow as tf\n",
        "\n",
        "import os\n",
        "import numpy as np\n",
        "import random\n",
        "import gc\n",
        "\n",
        "from google.colab import drive\n",
        "drive.mount('/content/drive')\n",
        "print(os.listdir(\"/content/drive/My Drive/CoLab\"))\n",
        "basedir = \"/content/drive/My Drive/CoLab\""
      ],
      "execution_count": 0,
      "outputs": []
    },
    {
      "cell_type": "code",
      "metadata": {
        "id": "Eca9PA8siSoI",
        "colab_type": "code",
        "colab": {}
      },
      "source": [
        "model  = tf.keras.models.load_model(os.path.join(basedir, \"test6\"))"
      ],
      "execution_count": 0,
      "outputs": []
    },
    {
      "cell_type": "code",
      "metadata": {
        "id": "qkf9xy_IiVE6",
        "colab_type": "code",
        "colab": {}
      },
      "source": [
        "model = tf.keras.models.Sequential([\n",
        "  tf.keras.layers.Conv2D(8, (2, 2), activation='relu', input_shape=(22, 22, 1)),  \n",
        "  tf.keras.layers.Conv2D(16, (8, 8), activation='relu', input_shape=(22, 22, 1)),\n",
        "  tf.keras.layers.Conv2D(32, (2, 2), activation='relu', input_shape=(22, 22, 1)),\n",
        "  tf.keras.layers.Conv2D(64, (2, 2), activation='relu', input_shape=(22, 22, 1)),\n",
        "  tf.keras.layers.Flatten(),\n",
        "  tf.keras.layers.Dense(256, activation='relu'),\n",
        "  tf.keras.layers.Dense(196, activation='relu'),\n",
        "  tf.keras.layers.Dense(64, activation='relu'),\n",
        "  tf.keras.layers.Dense(4, activation='softmax')\n",
        "])\n",
        "model.summary()\n",
        "model.compile(optimizer='adam',\n",
        "              loss='mean_squared_error',\n",
        "              metrics=['accuracy'])"
      ],
      "execution_count": 0,
      "outputs": []
    },
    {
      "cell_type": "code",
      "metadata": {
        "id": "vdkKCpcTp97m",
        "colab_type": "code",
        "colab": {}
      },
      "source": [
        "# TEST 4 DATALOAD\n",
        "\n",
        "dataset = {}\n",
        "\n",
        "print(\"load \")\n",
        "tmp = np.load(os.path.join(basedir, \"X.npy\"))\n",
        "print(\"X\")\n",
        "tmp2 = np.load(os.path.join(basedir, \"Xtest.npy\"))\n",
        "print(\"Xtest\")\n",
        "dataset = {\n",
        "    \"X\" : tmp.reshape(len(tmp), 22, 22, 1),\n",
        "    \"Y\" : np.load(os.path.join(basedir, \"Y.npy\")),\n",
        "    \"Xtest\" : tmp2.reshape(len(tmp2), 22, 22, 1),\n",
        "    \"Ytest\" : np.load(os.path.join(basedir, \"Ytest.npy\")),\n",
        "}\n",
        "print(\"Finished\")\n"
      ],
      "execution_count": 0,
      "outputs": []
    },
    {
      "cell_type": "code",
      "metadata": {
        "id": "ADPyEmBMCAiz",
        "colab_type": "code",
        "colab": {}
      },
      "source": [
        "s = np.arange(dataset[\"X\"].shape[0])\n",
        "np.random.shuffle(s)\n",
        "\n",
        "dataset[\"X\"] = dataset[\"X\"][s]\n",
        "dataset[\"Y\"] = dataset[\"Y\"][s]\n",
        "print (\"y: \", dataset[\"X\"][0])"
      ],
      "execution_count": 0,
      "outputs": []
    },
    {
      "cell_type": "code",
      "metadata": {
        "id": "RqD3RkR7bL61",
        "colab_type": "code",
        "colab": {}
      },
      "source": [
        "predY = np.array(model.predict(dataset[\"Xtest\"]))\n",
        "count = 0\n",
        "for i in range(0,len(predY)):\n",
        "  count += 1 if np.argmax(predY[i]) == np.argmax(dataset[\"Ytest\"][i]) else 0\n",
        "\n",
        "print(count, \"/\" , len(predY), \" : \", count / len(predY) * 100)\n"
      ],
      "execution_count": 0,
      "outputs": []
    },
    {
      "cell_type": "code",
      "metadata": {
        "id": "LXH4JGk8Zkhn",
        "colab_type": "code",
        "colab": {}
      },
      "source": [
        "  # TEST 4 LEARNING\n",
        "import datetime\n",
        "now = datetime.datetime.now\n",
        "while True:\n",
        "  history = model.fit(dataset[\"X\"], dataset[\"Y\"], epochs=5)\n",
        "  with open(os.path.join(basedir,\"Log.txt\"), 'a') as f:\n",
        "    f.write(now().strftime('%d %H:%M:%S') + \"\\t: \" + str(model.evaluate(dataset[\"Xtest\"], dataset[\"Ytest\"])) + \"\\n\")\n",
        "  \n",
        "  model.save(os.path.join(basedir, \"test6\"))"
      ],
      "execution_count": 0,
      "outputs": []
    },
    {
      "cell_type": "code",
      "metadata": {
        "id": "vLmp1r_R-UJp",
        "colab_type": "code",
        "colab": {}
      },
      "source": [
        "  # TEST 3 LEARNING\n",
        "import datetime\n",
        "now = datetime.datetime.now\n",
        "while True:\n",
        "  gc.collect()\n",
        "  X = []\n",
        "  Y = []\n",
        "  for j in range(50000):\n",
        "    index = random.randint(5000, len(dataset[3][\"X\"]) - 1)\n",
        "    X.append(dataset[3][\"X\"][index])\n",
        "    Y.append(dataset[3][\"Y\"][index])\n",
        "    index = random.randint(0, len(dataset[4][\"X\"]) - 1)\n",
        "    X.append(dataset[4][\"X\"][index])\n",
        "    Y.append(dataset[4][\"Y\"][index])\n",
        "  X = np.array(X)\n",
        "  Y = np.array(Y)\n",
        "  history = model.fit(X, Y, epochs=1)\n",
        "  del(X)\n",
        "  del(Y)\n",
        "  with open(os.path.join(basedir,\"Log.txt\"), 'a') as f:\n",
        "    f.write(now().strftime('%d %H:%M:%S') +str(i) + \"\\t: \" + str(history.history) + \"\\n\")\n",
        "  model.save(os.path.join(basedir, \"test4\"))"
      ],
      "execution_count": 0,
      "outputs": []
    },
    {
      "cell_type": "code",
      "metadata": {
        "id": "SrwynEWQ0NQP",
        "colab_type": "code",
        "colab": {}
      },
      "source": [
        "import math\n",
        "result = {}\n",
        "a = model.predict(dataset[3][\"X\"])\n",
        "y = dataset[3][\"Y\"]\n",
        "\n",
        "for i in range(len(a)):\n",
        "  if np.argmax(a[i]) != np.argmax(y[i]):\n",
        "    key = math.floor(i/1000)\n",
        "    if not key in result:\n",
        "      result[key] = 0\n",
        "    result[key] += 1\n",
        "from matplotlib import pyplot as plt\n",
        "x = []\n",
        "y = []\n",
        "for k in result:\n",
        "  x.append(k)\n",
        "  y.append(result[k])\n",
        "plt.plot(x,y)\n",
        "print(np.sum(y))\n",
        "del(a)\n",
        "del(y)\n",
        "del(x)\n",
        "del(result)"
      ],
      "execution_count": 0,
      "outputs": []
    },
    {
      "cell_type": "code",
      "metadata": {
        "id": "SLVDND2y2ewZ",
        "colab_type": "code",
        "colab": {}
      },
      "source": [
        "# TEST2 DATALOAD\n",
        "sample = [1,2,3,4,5,6,7,8,9,10,11,12,13,14,15,51,52,53]\n",
        "\n",
        "dataset = {}\n",
        "\n",
        "for i in sample:\n",
        "  print(\"load \" + str(i))\n",
        "  dataset[i] = {\n",
        "      \"X\" : np.load(os.path.join(basedir, \"puzzle-in-\" + str(i) +\".npy\")).reshape(100000, 22, 22, 1),\n",
        "      \"Y\" : np.load(os.path.join(basedir, \"puzzle-out-\" + str(i) +\".npy\")),\n",
        "  }"
      ],
      "execution_count": 0,
      "outputs": []
    },
    {
      "cell_type": "code",
      "metadata": {
        "id": "Agf2a7CiiwSi",
        "colab_type": "code",
        "colab": {}
      },
      "source": [
        "while True:\n",
        "  gc.collect()\n",
        "  samples = random.sample(sample, 5)\n",
        "  print(samples)\n",
        "  X = []\n",
        "  Y = []\n",
        "  for i in samples:\n",
        "    d = dataset[i]\n",
        "    for dX in d[\"X\"]:\n",
        "      X.append(dX)\n",
        "    \n",
        "    for dY in d[\"Y\"]:\n",
        "      Y.append(dY)\n",
        "  X = np.array(X)\n",
        "  Y = np.array(Y)\n",
        "  history = model.fit(X, Y, epochs=3)\n",
        "  del(X)\n",
        "  del(Y)\n",
        "  model.fit(dataset[1][\"X\"], dataset[1][\"Y\"], epochs=1)\n",
        "  with open(os.path.join(basedir,\"Log.txt\"), 'a') as f:\n",
        "    f.write(str(samples) + \" : \" + str(history.history) + \"\\n\")\n",
        "  model.save(os.path.join(basedir, \"test2\"))"
      ],
      "execution_count": 0,
      "outputs": []
    },
    {
      "cell_type": "code",
      "metadata": {
        "id": "Bx2aRT82Mzr6",
        "colab_type": "code",
        "colab": {}
      },
      "source": [
        "while True:\n",
        "  for i in sample:\n",
        "    d = dataset[i]\n",
        "    print(i)\n",
        "    history = model.fit(d[\"X\"], d[\"Y\"], epochs=3)\n",
        "\n",
        "    model.fit(dataset[1][\"X\"], dataset[1][\"Y\"], epochs=1)\n",
        "\n",
        "    with open(os.path.join(basedir,\"Log.txt\"), 'a') as f:\n",
        "      f.write(str(i) + \"\\t: \" + str(history.history) + \"\\n\")\n",
        "    model.save(os.path.join(basedir, \"test2\"))"
      ],
      "execution_count": 0,
      "outputs": []
    },
    {
      "cell_type": "code",
      "metadata": {
        "id": "8oqNWVV75fqt",
        "colab_type": "code",
        "colab": {}
      },
      "source": [
        "str(history.history)"
      ],
      "execution_count": 0,
      "outputs": []
    },
    {
      "cell_type": "code",
      "metadata": {
        "id": "7mheWm_9i0CZ",
        "colab_type": "code",
        "colab": {}
      },
      "source": [
        "X1 = np.load(os.path.join(basedir, \"puzzle-in-1.npy\"))\n",
        "Y1 = np.load(os.path.join(basedir, \"puzzle-out-1.npy\"))\n",
        "\n",
        "sample = [2,3,4,5,6,7,8,9,10,11,12,13,14,15]\n",
        "\n",
        "while True:\n",
        "  samples = [] #random.sample(sample, 6)\n",
        "  #samples.append(51)\n",
        "  #samples.append(52)\n",
        "  #samples.append(53)\n",
        "  X = X1.reshape((100000, 22, 22, 1))\n",
        "  Y = np.copy(Y1)\n",
        "  for i in samples:\n",
        "    print(i)\n",
        "    Xtmp = np.load(os.path.join(basedir, \"puzzle-in-\"+str(i)+\".npy\"))\n",
        "    Ytmp = np.load(os.path.join(basedir, \"puzzle-out-\"+str(i)+\".npy\"))\n",
        "    X = np.concatenate((X, Xtmp.reshape(100000, 22, 22, 1)), axis=0)\n",
        "    Y = np.concatenate((Y, Ytmp), axis=0)\n",
        "\n",
        "  model.fit(X, Y, epochs=10)\n",
        "  a = model.predict(X)\n",
        "  counter = 0\n",
        "  for i in range(len(X)):\n",
        "    pred = np.argmax(a[i])\n",
        "    ans = np.argmax(Y[i])\n",
        "    if pred == ans:\n",
        "      counter += 1\n",
        "  with open(os.path.join(basedir,\"Log.txt\"), 'a') as f:\n",
        "    f.write(str(samples) + \" : \" + str(counter) + \"/\" + str(len(X)) + \"\\n\")\n",
        "  model.save(os.path.join(basedir, \"test2\"))\n",
        "\n",
        "\n"
      ],
      "execution_count": 0,
      "outputs": []
    },
    {
      "cell_type": "code",
      "metadata": {
        "id": "oUQ-4QIopuWU",
        "colab_type": "code",
        "colab": {}
      },
      "source": [
        "loaded = tf.keras.models.load_model(os.path.join(basedir, \"test\"))\n",
        "X = np.load(os.path.join(basedir, \"puzzle-in-1.npy\"))\n",
        "Y = np.load(os.path.join(basedir, \"puzzle-out-1.npy\"))\n",
        "X = X.reshape((100000, 22, 22, 1))\n",
        "\n",
        "\n",
        "a = loaded.predict(X)\n",
        "\n",
        "counter = 0\n",
        "for i in range(100000):\n",
        "  pred = np.argmax(a[i])\n",
        "  ans = np.argmax(Y[i])\n",
        "  if pred == ans:\n",
        "    counter += 1\n",
        "print(counter)"
      ],
      "execution_count": 0,
      "outputs": []
    },
    {
      "cell_type": "code",
      "metadata": {
        "id": "qpXylF4V5HWM",
        "colab_type": "code",
        "colab": {}
      },
      "source": [
        ""
      ],
      "execution_count": 0,
      "outputs": []
    }
  ]
}